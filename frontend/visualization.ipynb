{
 "cells": [
  {
   "cell_type": "code",
   "execution_count": 10,
   "metadata": {
    "vscode": {
     "languageId": "plaintext"
    }
   },
   "outputs": [
    {
     "data": {
      "application/vnd.jupyter.widget-view+json": {
       "model_id": "354b3b37480049659cadab3899687b35",
       "version_major": 2,
       "version_minor": 0
      },
      "text/plain": [
       "interactive(children=(Dropdown(description='Database:', options=('redis', 'postgres'), value='redis'), Output(…"
      ]
     },
     "metadata": {},
     "output_type": "display_data"
    }
   ],
   "source": [
    "import requests\n",
    "import pandas as pd\n",
    "import matplotlib.pyplot as plt\n",
    "import ipywidgets as widgets\n",
    "from IPython.display import display\n",
    "\n",
    "# Function to fetch all movie data based on selected database\n",
    "def fetch_all_movies(db_choice):\n",
    "    \"\"\"\n",
    "    Fetch all movies data from the Flask API based on the selected database (Redis/PostgreSQL).\n",
    "    \"\"\"\n",
    "    response = requests.get(f\"http://127.0.0.1:5000/movies?db={db_choice}\")\n",
    "    return response.json()\n",
    "\n",
    "# Function to create a bar chart based on genre and box office earnings\n",
    "def plot_genre_and_box_office_bar_chart(movie_data):\n",
    "    \"\"\"\n",
    "    Create a bar chart to show the total box office earnings per genre.\n",
    "    \"\"\"\n",
    "    genres = [movie['genre'] for movie in movie_data]\n",
    "    box_offices = [float(movie['box_office_million_USD']) for movie in movie_data]\n",
    "    \n",
    "    df = pd.DataFrame({'genre': genres, 'box_office': box_offices})\n",
    "    genre_box_office = df.groupby('genre')['box_office'].sum().sort_values(ascending=False)\n",
    "    \n",
    "    plt.figure(figsize=(10, 6))\n",
    "    genre_box_office.plot(kind='bar', color='skyblue')\n",
    "    plt.title('Box Office Earnings by Genre')\n",
    "    plt.xlabel('Genre')\n",
    "    plt.ylabel('Box Office (in million USD)')\n",
    "    plt.xticks(rotation=45, ha='right')\n",
    "    plt.tight_layout()\n",
    "    plt.show()\n",
    "\n",
    "# Function to create a pie chart based on movie genre distribution\n",
    "def plot_genre_pie_chart(movie_data):\n",
    "    \"\"\"\n",
    "    Create a pie chart based on the genre of the movies.\n",
    "    \"\"\"\n",
    "    genres = [movie['genre'] for movie in movie_data]\n",
    "    genre_counts = pd.Series(genres).value_counts()\n",
    "\n",
    "    plt.figure(figsize=(7, 7))\n",
    "    plt.pie(genre_counts, labels=genre_counts.index, autopct='%1.1f%%', startangle=90)\n",
    "    plt.title('Movie Genre Distribution')\n",
    "    plt.axis('equal')\n",
    "    plt.show()\n",
    "\n",
    "# Function to display all movies and generate the visualizations\n",
    "def display_all_movies(db_choice):\n",
    "    \"\"\"\n",
    "    Display all movies data, create a bar chart for genre and box office, \n",
    "    and a pie chart for genre distribution.\n",
    "    \"\"\"\n",
    "    movie_data = fetch_all_movies(db_choice)\n",
    "    \n",
    "    if isinstance(movie_data, list):  # Check if the response contains a list of movies\n",
    "        # Display the DataFrame (table format)\n",
    "        df = pd.DataFrame(movie_data)\n",
    "        display(df)\n",
    "        \n",
    "        # Plot the bar chart for box office earnings by genre\n",
    "        plot_genre_and_box_office_bar_chart(movie_data)\n",
    "        \n",
    "        # Plot the genre pie chart\n",
    "        plot_genre_pie_chart(movie_data)\n",
    "    else:\n",
    "        print(\"Error fetching data. Response:\", movie_data)\n",
    "\n",
    "# Dropdown widget to select the database\n",
    "db_choice_widget = widgets.Dropdown(\n",
    "    options=['redis', 'postgres'],\n",
    "    value='redis',  # Default value is Redis\n",
    "    description='Database:',\n",
    "    disabled=False,\n",
    ")\n",
    "\n",
    "\n",
    "# Create an interactive widget to update the visualization based on the selected database\n",
    "interactive_plot = widgets.interactive(display_all_movies, db_choice=db_choice_widget)\n",
    "display(interactive_plot)\n"
   ]
  },
  {
   "cell_type": "code",
   "execution_count": null,
   "metadata": {},
   "outputs": [],
   "source": []
  }
 ],
 "metadata": {
  "kernelspec": {
   "display_name": "Python 3 (ipykernel)",
   "language": "python",
   "name": "python3"
  },
  "language_info": {
   "codemirror_mode": {
    "name": "ipython",
    "version": 3
   },
   "file_extension": ".py",
   "mimetype": "text/x-python",
   "name": "python",
   "nbconvert_exporter": "python",
   "pygments_lexer": "ipython3",
   "version": "3.11.5"
  }
 },
 "nbformat": 4,
 "nbformat_minor": 2
}
